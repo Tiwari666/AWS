{
 "cells": [
  {
   "cell_type": "code",
   "execution_count": 1,
   "id": "9e8e4adb",
   "metadata": {},
   "outputs": [
    {
     "name": "stdout",
     "output_type": "stream",
     "text": [
      "Requirement already satisfied: boto3 in /home/ec2-user/anaconda3/envs/python3/lib/python3.10/site-packages (1.34.69)\n",
      "Requirement already satisfied: botocore<1.35.0,>=1.34.69 in /home/ec2-user/anaconda3/envs/python3/lib/python3.10/site-packages (from boto3) (1.34.69)\n",
      "Requirement already satisfied: jmespath<2.0.0,>=0.7.1 in /home/ec2-user/anaconda3/envs/python3/lib/python3.10/site-packages (from boto3) (1.0.1)\n",
      "Requirement already satisfied: s3transfer<0.11.0,>=0.10.0 in /home/ec2-user/anaconda3/envs/python3/lib/python3.10/site-packages (from boto3) (0.10.0)\n",
      "Requirement already satisfied: python-dateutil<3.0.0,>=2.1 in /home/ec2-user/anaconda3/envs/python3/lib/python3.10/site-packages (from botocore<1.35.0,>=1.34.69->boto3) (2.8.2)\n",
      "Requirement already satisfied: urllib3!=2.2.0,<3,>=1.25.4 in /home/ec2-user/anaconda3/envs/python3/lib/python3.10/site-packages (from botocore<1.35.0,>=1.34.69->boto3) (2.0.7)\n",
      "Requirement already satisfied: six>=1.5 in /home/ec2-user/anaconda3/envs/python3/lib/python3.10/site-packages (from python-dateutil<3.0.0,>=2.1->botocore<1.35.0,>=1.34.69->boto3) (1.16.0)\n"
     ]
    }
   ],
   "source": [
    "#Install boto3 to interact with various AWS services programmatically using Python. \n",
    "!pip install boto3"
   ]
  },
  {
   "cell_type": "code",
   "execution_count": 3,
   "id": "ce1f5bf9",
   "metadata": {},
   "outputs": [],
   "source": [
    "import boto3\n",
    "import pandas as pd\n",
    "\n",
    "s3 = boto3.client('s3')\n",
    "# s3 = client object for interacting with the Amazon Simple Storage Service (S3)--"
   ]
  },
  {
   "cell_type": "markdown",
   "id": "85b02ad8",
   "metadata": {},
   "source": [
    "# Create IAM User and save the access credential."
   ]
  },
  {
   "cell_type": "code",
   "execution_count": null,
   "id": "6aaa031d",
   "metadata": {},
   "outputs": [],
   "source": [
    "# RESOURCE OBJECT FOR ACCESSING AWS services--alternative of previous s3.\n",
    "# s3 = boto3.resource(\n",
    "#     service_name='s3',\n",
    "#     region_name='us-east-2',\n",
    "#     aws_access_key_id='-------------',\n",
    "#     aws_secret_access_key='----------------'\n",
    "# )"
   ]
  },
  {
   "cell_type": "code",
   "execution_count": 6,
   "id": "13ae6218",
   "metadata": {},
   "outputs": [
    {
     "name": "stdout",
     "output_type": "stream",
     "text": [
      "n2bucket\n"
     ]
    }
   ],
   "source": [
    "import boto3\n",
    "\n",
    "# Create a Boto3 S3 client\n",
    "s3 = boto3.client('s3')\n",
    "\n",
    "# List bucket names\n",
    "response = s3.list_buckets()\n",
    "\n",
    "# Print out bucket names\n",
    "for bucket in response['Buckets']:\n",
    "    print(bucket['Name'])"
   ]
  },
  {
   "cell_type": "code",
   "execution_count": 7,
   "id": "d604a00a",
   "metadata": {},
   "outputs": [
    {
     "name": "stdout",
     "output_type": "stream",
     "text": [
      "Requirement already satisfied: s3fs in /home/ec2-user/anaconda3/envs/python3/lib/python3.10/site-packages (0.4.2)\n",
      "Requirement already satisfied: botocore>=1.12.91 in /home/ec2-user/anaconda3/envs/python3/lib/python3.10/site-packages (from s3fs) (1.34.69)\n",
      "Requirement already satisfied: fsspec>=0.6.0 in /home/ec2-user/anaconda3/envs/python3/lib/python3.10/site-packages (from s3fs) (2024.2.0)\n",
      "Requirement already satisfied: jmespath<2.0.0,>=0.7.1 in /home/ec2-user/anaconda3/envs/python3/lib/python3.10/site-packages (from botocore>=1.12.91->s3fs) (1.0.1)\n",
      "Requirement already satisfied: python-dateutil<3.0.0,>=2.1 in /home/ec2-user/anaconda3/envs/python3/lib/python3.10/site-packages (from botocore>=1.12.91->s3fs) (2.8.2)\n",
      "Requirement already satisfied: urllib3!=2.2.0,<3,>=1.25.4 in /home/ec2-user/anaconda3/envs/python3/lib/python3.10/site-packages (from botocore>=1.12.91->s3fs) (2.0.7)\n",
      "Requirement already satisfied: six>=1.5 in /home/ec2-user/anaconda3/envs/python3/lib/python3.10/site-packages (from python-dateutil<3.0.0,>=2.1->botocore>=1.12.91->s3fs) (1.16.0)\n"
     ]
    }
   ],
   "source": [
    "# Interacting with S3 bucket as if they were local file system.\n",
    "!pip install s3fs"
   ]
  },
  {
   "cell_type": "code",
   "execution_count": 8,
   "id": "c73f4c27",
   "metadata": {},
   "outputs": [],
   "source": [
    "import pandas as pd\n",
    "\n",
    "# Make dataframes with different data\n",
    "foo = pd.DataFrame({'ID': [101, 102, 103],\n",
    "                    'Name': ['Alice', 'Bob', 'Charlie'],\n",
    "                    'Age': [25, 30, 35]})\n",
    "bar = pd.DataFrame({'ID': [201, 202, 203],\n",
    "                    'Name': ['David', 'Eva', 'Frank'],\n",
    "                    'Age': [40, 45, 50]})\n",
    "\n",
    "# Save to CSV  to the session using with statement\n",
    "with open('foo.csv', 'w') as f:\n",
    "    foo.to_csv(f, index=False)\n",
    "\n",
    "with open('bar.csv', 'w') as f:\n",
    "    bar.to_csv(f, index=False)"
   ]
  },
  {
   "cell_type": "code",
   "execution_count": 10,
   "id": "84f352c4",
   "metadata": {},
   "outputs": [],
   "source": [
    "import boto3\n",
    "\n",
    "# Create a Boto3 S3 resource\n",
    "s3 = boto3.resource('s3')\n",
    "\n",
    "# Upload files to S3 bucket\n",
    "s3.Bucket('n2bucket').upload_file(Filename='foo.csv', Key='foo.csv')\n",
    "s3.Bucket('n2bucket').upload_file(Filename='bar.csv', Key='bar.csv')"
   ]
  },
  {
   "cell_type": "code",
   "execution_count": 11,
   "id": "e06c9b93",
   "metadata": {},
   "outputs": [
    {
     "name": "stdout",
     "output_type": "stream",
     "text": [
      "s3.ObjectSummary(bucket_name='n2bucket', key='bar.csv')\n",
      "s3.ObjectSummary(bucket_name='n2bucket', key='foo.csv')\n"
     ]
    }
   ],
   "source": [
    "for obj in s3.Bucket('n2bucket').objects.all():\n",
    "    print(obj)"
   ]
  },
  {
   "cell_type": "code",
   "execution_count": 13,
   "id": "5048fe6c",
   "metadata": {},
   "outputs": [
    {
     "data": {
      "text/html": [
       "<div>\n",
       "<style scoped>\n",
       "    .dataframe tbody tr th:only-of-type {\n",
       "        vertical-align: middle;\n",
       "    }\n",
       "\n",
       "    .dataframe tbody tr th {\n",
       "        vertical-align: top;\n",
       "    }\n",
       "\n",
       "    .dataframe thead th {\n",
       "        text-align: right;\n",
       "    }\n",
       "</style>\n",
       "<table border=\"1\" class=\"dataframe\">\n",
       "  <thead>\n",
       "    <tr style=\"text-align: right;\">\n",
       "      <th></th>\n",
       "      <th>Name</th>\n",
       "      <th>Age</th>\n",
       "    </tr>\n",
       "    <tr>\n",
       "      <th>ID</th>\n",
       "      <th></th>\n",
       "      <th></th>\n",
       "    </tr>\n",
       "  </thead>\n",
       "  <tbody>\n",
       "    <tr>\n",
       "      <th>101</th>\n",
       "      <td>Alice</td>\n",
       "      <td>25</td>\n",
       "    </tr>\n",
       "    <tr>\n",
       "      <th>102</th>\n",
       "      <td>Bob</td>\n",
       "      <td>30</td>\n",
       "    </tr>\n",
       "    <tr>\n",
       "      <th>103</th>\n",
       "      <td>Charlie</td>\n",
       "      <td>35</td>\n",
       "    </tr>\n",
       "  </tbody>\n",
       "</table>\n",
       "</div>"
      ],
      "text/plain": [
       "        Name  Age\n",
       "ID               \n",
       "101    Alice   25\n",
       "102      Bob   30\n",
       "103  Charlie   35"
      ]
     },
     "execution_count": 13,
     "metadata": {},
     "output_type": "execute_result"
    }
   ],
   "source": [
    "# Load csv file directly into python\n",
    "obj = s3.Bucket('n2bucket').Object('foo.csv').get()\n",
    "foo_df = pd.read_csv(obj['Body'], index_col=0)\n",
    "foo_df"
   ]
  },
  {
   "cell_type": "code",
   "execution_count": 14,
   "id": "28ad6f58",
   "metadata": {},
   "outputs": [],
   "source": [
    "# Download file in the session and read from disc\n",
    "s3.Bucket('n2bucket').download_file(Key='foo.csv', Filename='foo2.csv')\n",
    "foo2_df=pd.read_csv('foo2.csv', index_col=0)"
   ]
  },
  {
   "cell_type": "code",
   "execution_count": null,
   "id": "9d464d6c",
   "metadata": {},
   "outputs": [],
   "source": []
  }
 ],
 "metadata": {
  "kernelspec": {
   "display_name": "conda_python3",
   "language": "python",
   "name": "conda_python3"
  },
  "language_info": {
   "codemirror_mode": {
    "name": "ipython",
    "version": 3
   },
   "file_extension": ".py",
   "mimetype": "text/x-python",
   "name": "python",
   "nbconvert_exporter": "python",
   "pygments_lexer": "ipython3",
   "version": "3.10.13"
  }
 },
 "nbformat": 4,
 "nbformat_minor": 5
}
